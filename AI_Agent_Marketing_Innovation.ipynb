{
 "cells": [
  {
   "cell_type": "code",
   "execution_count": null,
   "id": "install-libraries",
   "metadata": {},
   "outputs": [],
   "source": [
    "!pip install crewai==0.28.8 crewai_tools==0.1.6 langchain_community==0.0.29"
   ]
  },
  {
   "cell_type": "code",
   "execution_count": null,
   "id": "import-libraries",
   "metadata": {},
   "outputs": [],
   "source": [
    "# Suppress warnings\n",
    "import warnings\n",
    "warnings.filterwarnings('ignore')\n\n",
    "# Import libraries\n",
    "from crewai import Agent, Task, Crew\n",
    "from google.colab import userdata\n\n",
    "# Retrieve API keys from user data\n",
    "openai_api_key = userdata.get('openai')\n",
    "SERPER_API_KEY = userdata.get('serper')\n\n",
    "# Set environment variables\n",
    "import os\n",
    "os.environ[\"OPENAI_API_KEY\"] = openai_api_key\n",
    "os.environ[\"SERPER_API_KEY\"] = SERPER_API_KEY\n",
    "os.environ[\"OPENAI_MODEL_NAME\"] = 'gpt-4-turbo'"
   ]
  },
  {
   "cell_type": "code",
   "execution_count": null,
   "id": "define-agents",
   "metadata": {},
   "outputs": [],
   "source": [
    "# Define Agents\n\n",
    "# Brand Manager Agent\n",
    "brand_manager_agent = Agent(\n",
    "    role=\"Senior Brand Manager ex-P&G\",\n",
    "    goal=(\n",
    "        \"Design and test product and service innovations that uniquely meet target customer needs, \"\n",
    "        \"grow sales revenue, and build brand equity.\"\n",
    "    ),\n",
    "    backstory=(\n",
    "        \"You are leading marketing innovation for the brand {brand_name} at {company}. \"\n",
    "        \"You have been trained at Procter & Gamble and think strategically about marketing. \"\n",
    "        \"Your marketing innovations must: \"\n",
    "        \"(1) Meet specific unmet customer needs with deep insights, not just facts; \"\n",
    "        \"(2) Be differentiated from competitors; \"\n",
    "        \"(3) Align with brand values. \"\n",
    "        \"Challenge your team creatively, go beyond 'deja-vu' ideas, and ensure ideas make strategic sense.\"\n",
    "    ),\n",
    "    allow_delegation=False,\n",
    "    verbose=True\n",
    ")"
   ]
  },
  {
   "cell_type": "code",
   "execution_count": null,
   "id": "define-tasks",
   "metadata": {},
   "outputs": [],
   "source": [
    "# Define Tasks\n\n",
    "write_brief = Task(\n",
    "    description=(\n",
    "        \"The Brand Manager for {brand_name} at {company} wants to develop innovative products and services \"\n",
    "        \"for {target_customer}. Write a strategic innovation brief to inspire the Market Researcher and Creative Director.\"\n",
    "    ),\n",
    "    expected_output=(\n",
    "        \"The Brief: A corporate one-page memo framing the objective, recapping marketing strategy, \"\n",
    "        \"inspiring innovation, and defining success with specific metrics.\"\n",
    "    ),\n",
    "    agent=brand_manager_agent\n",
    ")"
   ]
  },
  {
   "cell_type": "code",
   "execution_count": null,
   "id": "run-workshop",
   "metadata": {},
   "outputs": [],
   "source": [
    "# Run the Workshop\n\n",
    "inputs = {\n",
    "    \"brand_name\": \"iPhone\",\n",
    "    \"company\": \"Apple\",\n",
    "    \"target_customer\": \"AI enthusiasts\"\n",
    "}\n",
    "result = crew.kickoff(inputs=inputs)"
   ]
  }
 ],
 "metadata": {
  "kernelspec": {
   "display_name": "Python 3",
   "language": "python",
   "name": "python3"
  },
  "language_info": {
   "codemirror_mode": {
    "name": "ipython",
    "version": 3
   },
   "file_extension": ".py",
   "mimetype": "text/x-python",
   "name": "python",
   "nbconvert_exporter": "python",
   "pygments_lexer": "ipython3",
   "version": "3.9.7"
  }
 },
 "nbformat": 4,
 "nbformat_minor": 5
}
