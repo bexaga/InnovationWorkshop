# Install necessary libraries
!pip install crewai==0.28.8 crewai_tools==0.1.6 langchain_community==0.0.29

# Suppress warnings
import warnings
warnings.filterwarnings('ignore')

# Import libraries
from crewai import Agent, Task, Crew
from google.colab import userdata

# Retrieve API keys from user data
openai_api_key = userdata.get('openai')
SERPER_API_KEY = userdata.get('serper')

# Set environment variables
import os
os.environ["OPENAI_API_KEY"] = openai_api_key
os.environ["SERPER_API_KEY"] = SERPER_API_KEY
os.environ["OPENAI_MODEL_NAME"] = 'gpt-4-turbo'

# Define Agents

# Brand Manager Agent
brand_manager_agent = Agent(
    role="Senior Brand Manager ex-P&G",
    goal=(
        "Design and test product and service innovations that uniquely meet target customer needs, "
        "grow sales revenue, and build brand equity."
    ),
    backstory=(
        "You are leading marketing innovation for the brand {brand_name} at {company}. "
        "You have been trained at Procter & Gamble and think strategically about marketing. "
        "Your marketing innovations must: "
        "(1) Meet specific unmet customer needs with deep insights, not just facts; "
        "(2) Be differentiated from competitors; "
        "(3) Align with brand values. "
        "Challenge your team creatively, go beyond 'deja-vu' ideas, and ensure ideas make strategic sense."
    ),
    allow_delegation=False,
    verbose=True
)

# Creative Director Agent
creative_director_agent = Agent(
    role="Award-winning Creative Director at a leading advertising agency",
    goal="Develop new, differentiated, superior big advertising ideas.",
    backstory=(
        "Your goal is to win a Cannes award for mind-blowing ideas and execution. "
        "Start with customer behavior insights and challenge the research for deeper understanding. "
        "You apply the 'WHAT IF' ideation methodology and draw inspiration from Apple Marketing Philosophy: empathy, focus, impute."
    ),
    verbose=True
)

# Market Researcher Agent
market_researcher_agent = Agent(
    role="Experienced Market Researcher",
    goal="Research target group unmet needs, pain points, and potential delighters.",
    backstory=(
        "You uniquely combine behavioral psychology, strategic planning, and data analysis. "
        "Look for unexpected behavior, analyze trends, and focus on the gap between 'do' and 'say.' "
        "Provide actionable insights to the Brand Manager and inspire the Creative Director."
    ),
    verbose=True
)

# Marketing Assistant Agent
marketing_assistant_agent = Agent(
    role="Rigorous Marketing Assistant",
    goal="Document the strategy, rank innovations, and recommend next steps.",
    backstory=(
        "You keep track of discussions between the Brand Manager, Creative Director, and Market Researcher. "
        "Document the marketing strategy (WHERE, WHO, WHAT, HOW) and rank ideas based on strategic fit, insights quality, and uniqueness."
    ),
    verbose=True
)

# Import tools
from crewai_tools import SerperDevTool, ScrapeWebsiteTool

# Define tools
search_tool = SerperDevTool()
scrape_tool = ScrapeWebsiteTool()

# Define Tasks

write_brief = Task(
    description=(
        "The Brand Manager for {brand_name} at {company} wants to develop innovative products and services "
        "for {target_customer}. Write a strategic innovation brief to inspire the Market Researcher and Creative Director."
    ),
    expected_output=(
        "The Brief: A corporate one-page memo framing the objective, recapping marketing strategy, "
        "inspiring innovation, and defining success with specific metrics."
    ),
    agent=brand_manager_agent
)

research_insights = Task(
    description=(
        "Search the internet for the key benefits and values of {brand_name} from {company}. "
        "Search for deep insights and root causes about {target_customer}. Document sources and provide insights to the Marketing Assistant."
    ),
    expected_output="Well-crafted insights with documented sources.",
    tools=[search_tool, scrape_tool],
    agent=market_researcher_agent
)

document_strategy = Task(
    description=(
        "Based on insights from the Market Researcher, define the marketing strategy (WHERE, WHO, WHAT, HOW). "
        "Highlight gaps to the Brand Manager."
    ),
    expected_output="Recap of the strategy with strategic rationale.",
    tools=[search_tool, scrape_tool],
    agent=marketing_assistant_agent
)

ideate = Task(
    description=(
        "Generate diverse ideas to solve the customer problem identified in the Brief. "
        "Use diverse inspiration sources and ensure ideas have award-winning potential."
    ),
    expected_output=(
        "List of Big Ideas: A one-sentence description of each idea and how it solves the customer problem."
    ),
    tools=[search_tool, scrape_tool],
    agent=creative_director_agent
)

rank_ideas = Task(
    description=(
        "List each idea with the key customer insight, rationale for prioritization, and a ranking."
    ),
    expected_output="A table listing each idea with key information and ranking.",
    agent=marketing_assistant_agent
)

# Create Crew
crew = Crew(
    agents=[brand_manager_agent, creative_director_agent, market_researcher_agent, marketing_assistant_agent],
    tasks=[write_brief, research_insights, document_strategy, ideate, rank_ideas],
    verbose=2,
    memory=True
)

# Run the Workshop
inputs = {
    "brand_name": "iPhone",
    "company": "Apple",
    "target_customer": "AI enthusiasts"
}
result = crew.kickoff(inputs=inputs)
